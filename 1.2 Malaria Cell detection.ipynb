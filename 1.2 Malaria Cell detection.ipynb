{
 "cells": [
  {
   "cell_type": "code",
   "execution_count": 1,
   "id": "9aa088ad",
   "metadata": {
    "scrolled": true
   },
   "outputs": [
    {
     "name": "stderr",
     "output_type": "stream",
     "text": [
      "C:\\Users\\rohit\\AppData\\Roaming\\Python\\Python311\\site-packages\\pandas\\core\\arrays\\masked.py:60: UserWarning: Pandas requires version '1.3.6' or newer of 'bottleneck' (version '1.3.5' currently installed).\n",
      "  from pandas.core import (\n"
     ]
    }
   ],
   "source": [
    "import pandas as pd\n",
    "import numpy as np\n",
    "import cv2\n",
    "import glob # search for files that match a specific file pattern or name\n",
    "\n",
    "\n",
    "from sklearn.model_selection import train_test_split"
   ]
  },
  {
   "cell_type": "code",
   "execution_count": 2,
   "id": "0ff51629",
   "metadata": {},
   "outputs": [],
   "source": [
    "allImages = []\n",
    "allLabels = []\n",
    "\n",
    "input_shape = (64,64)"
   ]
  },
  {
   "cell_type": "code",
   "execution_count": 3,
   "id": "b1ad81c5",
   "metadata": {},
   "outputs": [],
   "source": [
    "uninfected_images = 'C:/Users/rohit/Downloads/archive (10)/Malarial Cell Image Data/malarial_cell_image_data/cell_images/Uninfected/'\n",
    "paracetized_images = \"C:/Users/rohit/Downloads/archive (10)/Malarial Cell Image Data/malarial_cell_image_data/cell_images/Parasitized/\"\n",
    "\n",
    "paths = [uninfected_images , paracetized_images]"
   ]
  },
  {
   "cell_type": "code",
   "execution_count": 4,
   "id": "ef38a4c2",
   "metadata": {},
   "outputs": [],
   "source": [
    "for path in paths:\n",
    "    path2 = path + '/*.png'\n",
    "    for file in glob.glob(path2):\n",
    "        #print(file)\n",
    "        \n",
    "        \n",
    "        # load the Images\n",
    "        img = cv2.imread(file)\n",
    "        \n",
    "        if img is not None:\n",
    "            resized = cv2.resize(img , input_shape , interpolation = cv2.INTER_AREA)\n",
    "            allImages.append(resized)\n",
    "            \n",
    "            if path == uninfected_images:\n",
    "                allLabels.append(1)\n",
    "            else:\n",
    "                allLabels.append(0)"
   ]
  },
  {
   "cell_type": "code",
   "execution_count": 5,
   "id": "c98e66aa",
   "metadata": {},
   "outputs": [
    {
     "data": {
      "text/plain": [
       "(27558, 64, 64, 3)"
      ]
     },
     "execution_count": 5,
     "metadata": {},
     "output_type": "execute_result"
    }
   ],
   "source": [
    "allImages = np.array(allImages,dtype=np.float32)\n",
    "allImages.shape"
   ]
  },
  {
   "cell_type": "code",
   "execution_count": 6,
   "id": "31fe1962",
   "metadata": {},
   "outputs": [
    {
     "data": {
      "text/plain": [
       "(27558,)"
      ]
     },
     "execution_count": 6,
     "metadata": {},
     "output_type": "execute_result"
    }
   ],
   "source": [
    "allLabels = np.array(allLabels, dtype=np.int32)\n",
    "allLabels.shape"
   ]
  },
  {
   "cell_type": "code",
   "execution_count": 7,
   "id": "078e7200",
   "metadata": {},
   "outputs": [
    {
     "name": "stdout",
     "output_type": "stream",
     "text": [
      "1\n"
     ]
    }
   ],
   "source": [
    "# show  first image\n",
    "\n",
    "img = allImages[4]\n",
    "label = allLabels[4]\n",
    "print(label)"
   ]
  },
  {
   "cell_type": "code",
   "execution_count": 8,
   "id": "d09cc050",
   "metadata": {},
   "outputs": [],
   "source": [
    "cv2.imshow('img' , img)\n",
    "cv2.waitKey(0)\n",
    "cv2.destroyAllWindows()\n"
   ]
  },
  {
   "cell_type": "code",
   "execution_count": 9,
   "id": "92792782",
   "metadata": {},
   "outputs": [],
   "source": [
    "input_shape = (64,64,3)"
   ]
  },
  {
   "cell_type": "code",
   "execution_count": 10,
   "id": "4e89224d",
   "metadata": {},
   "outputs": [],
   "source": [
    "# normalize the values between 0 and 1\n",
    "\n",
    "allImagesforModel = allImages / 255.0"
   ]
  },
  {
   "cell_type": "code",
   "execution_count": 11,
   "id": "3356ac6b",
   "metadata": {},
   "outputs": [],
   "source": [
    "# splitting the Data\n",
    "x_train,x_test , y_train , y_test = train_test_split(allImagesforModel , allLabels , test_size=0.2 , random_state=42)"
   ]
  },
  {
   "cell_type": "code",
   "execution_count": 12,
   "id": "1904ee1d",
   "metadata": {},
   "outputs": [
    {
     "name": "stdout",
     "output_type": "stream",
     "text": [
      "shape of input train data :  22046\n",
      "shape of input test data :  5512\n",
      "shape of output train data :  22046\n",
      "shape of output test data :  5512\n"
     ]
    }
   ],
   "source": [
    "print('shape of input train data : ',len(x_train))\n",
    "print('shape of input test data : ',len(x_test))\n",
    "print('shape of output train data : ',len(y_train))\n",
    "print('shape of output test data : ',len(y_test))"
   ]
  },
  {
   "cell_type": "code",
   "execution_count": 13,
   "id": "7111a2f4",
   "metadata": {},
   "outputs": [
    {
     "data": {
      "text/plain": [
       "(array([[[0., 0., 0.],\n",
       "         [0., 0., 0.],\n",
       "         [0., 0., 0.],\n",
       "         ...,\n",
       "         [0., 0., 0.],\n",
       "         [0., 0., 0.],\n",
       "         [0., 0., 0.]],\n",
       " \n",
       "        [[0., 0., 0.],\n",
       "         [0., 0., 0.],\n",
       "         [0., 0., 0.],\n",
       "         ...,\n",
       "         [0., 0., 0.],\n",
       "         [0., 0., 0.],\n",
       "         [0., 0., 0.]],\n",
       " \n",
       "        [[0., 0., 0.],\n",
       "         [0., 0., 0.],\n",
       "         [0., 0., 0.],\n",
       "         ...,\n",
       "         [0., 0., 0.],\n",
       "         [0., 0., 0.],\n",
       "         [0., 0., 0.]],\n",
       " \n",
       "        ...,\n",
       " \n",
       "        [[0., 0., 0.],\n",
       "         [0., 0., 0.],\n",
       "         [0., 0., 0.],\n",
       "         ...,\n",
       "         [0., 0., 0.],\n",
       "         [0., 0., 0.],\n",
       "         [0., 0., 0.]],\n",
       " \n",
       "        [[0., 0., 0.],\n",
       "         [0., 0., 0.],\n",
       "         [0., 0., 0.],\n",
       "         ...,\n",
       "         [0., 0., 0.],\n",
       "         [0., 0., 0.],\n",
       "         [0., 0., 0.]],\n",
       " \n",
       "        [[0., 0., 0.],\n",
       "         [0., 0., 0.],\n",
       "         [0., 0., 0.],\n",
       "         ...,\n",
       "         [0., 0., 0.],\n",
       "         [0., 0., 0.],\n",
       "         [0., 0., 0.]]], dtype=float32),\n",
       " 0)"
      ]
     },
     "execution_count": 13,
     "metadata": {},
     "output_type": "execute_result"
    }
   ],
   "source": [
    "x_train[1] , y_train[1]"
   ]
  },
  {
   "cell_type": "markdown",
   "id": "ae14bb95",
   "metadata": {},
   "source": [
    "### Building the CNN model"
   ]
  },
  {
   "cell_type": "code",
   "execution_count": 14,
   "id": "123c2871",
   "metadata": {},
   "outputs": [
    {
     "name": "stdout",
     "output_type": "stream",
     "text": [
      "WARNING:tensorflow:From C:\\Users\\rohit\\AppData\\Roaming\\Python\\Python311\\site-packages\\keras\\src\\losses.py:2976: The name tf.losses.sparse_softmax_cross_entropy is deprecated. Please use tf.compat.v1.losses.sparse_softmax_cross_entropy instead.\n",
      "\n"
     ]
    }
   ],
   "source": [
    "from keras.models import Sequential\n",
    "from keras.layers import MaxPooling2D , Conv2D , Dense , Flatten\n",
    "\n",
    "from keras.callbacks import ModelCheckpoint"
   ]
  },
  {
   "cell_type": "code",
   "execution_count": 15,
   "id": "3f54eeb8",
   "metadata": {},
   "outputs": [
    {
     "name": "stdout",
     "output_type": "stream",
     "text": [
      "WARNING:tensorflow:From C:\\Users\\rohit\\AppData\\Roaming\\Python\\Python311\\site-packages\\keras\\src\\backend.py:873: The name tf.get_default_graph is deprecated. Please use tf.compat.v1.get_default_graph instead.\n",
      "\n",
      "WARNING:tensorflow:From C:\\Users\\rohit\\AppData\\Roaming\\Python\\Python311\\site-packages\\keras\\src\\layers\\pooling\\max_pooling2d.py:161: The name tf.nn.max_pool is deprecated. Please use tf.nn.max_pool2d instead.\n",
      "\n",
      "WARNING:tensorflow:From C:\\Users\\rohit\\AppData\\Roaming\\Python\\Python311\\site-packages\\keras\\src\\optimizers\\__init__.py:309: The name tf.train.Optimizer is deprecated. Please use tf.compat.v1.train.Optimizer instead.\n",
      "\n",
      "Model: \"sequential\"\n",
      "_________________________________________________________________\n",
      " Layer (type)                Output Shape              Param #   \n",
      "=================================================================\n",
      " conv2d (Conv2D)             (None, 64, 64, 16)        448       \n",
      "                                                                 \n",
      " conv2d_1 (Conv2D)           (None, 64, 64, 16)        2320      \n",
      "                                                                 \n",
      " max_pooling2d (MaxPooling2  (None, 32, 32, 16)        0         \n",
      " D)                                                              \n",
      "                                                                 \n",
      " conv2d_2 (Conv2D)           (None, 32, 32, 32)        4640      \n",
      "                                                                 \n",
      " conv2d_3 (Conv2D)           (None, 32, 32, 32)        9248      \n",
      "                                                                 \n",
      " max_pooling2d_1 (MaxPoolin  (None, 16, 16, 32)        0         \n",
      " g2D)                                                            \n",
      "                                                                 \n",
      " flatten (Flatten)           (None, 8192)              0         \n",
      "                                                                 \n",
      " dense (Dense)               (None, 1024)              8389632   \n",
      "                                                                 \n",
      " dense_1 (Dense)             (None, 1)                 1025      \n",
      "                                                                 \n",
      "=================================================================\n",
      "Total params: 8407313 (32.07 MB)\n",
      "Trainable params: 8407313 (32.07 MB)\n",
      "Non-trainable params: 0 (0.00 Byte)\n",
      "_________________________________________________________________\n",
      "None\n"
     ]
    }
   ],
   "source": [
    "model =Sequential()\n",
    "\n",
    "model.add(Conv2D(input_shape=input_shape , filters=16 , kernel_size=(3,3) , padding='same' , activation='relu'))\n",
    "model.add(Conv2D(filters=16 , kernel_size=(3,3) , padding='same' , activation='relu'))\n",
    "model.add(MaxPooling2D(pool_size=(2,2) ,strides=(2,2)))\n",
    "\n",
    "\n",
    "model.add(Conv2D(filters=32 , kernel_size=(3,3) , padding='same' , activation='relu'))\n",
    "model.add(Conv2D(filters=32 , kernel_size=(3,3) , padding='same' , activation='relu'))\n",
    "model.add(MaxPooling2D(pool_size=(2,2) ,strides=(2,2)))\n",
    "\n",
    "model.add(Flatten())\n",
    "\n",
    "model.add(Dense(1024 , activation='relu'))\n",
    "model.add(Dense(1 , activation='sigmoid'))\n",
    "\n",
    "\n",
    "model.compile(optimizer='adam' , loss = 'binary_crossentropy' , metrics=['accuracy'])\n",
    "print(model.summary())"
   ]
  },
  {
   "cell_type": "code",
   "execution_count": 16,
   "id": "a76e12e7",
   "metadata": {},
   "outputs": [
    {
     "name": "stdout",
     "output_type": "stream",
     "text": [
      "689.0 173.0\n"
     ]
    }
   ],
   "source": [
    "batch = 32\n",
    "epoch =10\n",
    "\n",
    "stepPerEpoch = np.ceil(len(x_train)/batch)\n",
    "ValidationStep = np.ceil(len(x_test)/batch)\n",
    "\n",
    "print(stepPerEpoch , ValidationStep)"
   ]
  },
  {
   "cell_type": "code",
   "execution_count": 17,
   "id": "e169e676",
   "metadata": {},
   "outputs": [
    {
     "name": "stdout",
     "output_type": "stream",
     "text": [
      "Epoch 1/10\n",
      "WARNING:tensorflow:From C:\\Users\\rohit\\AppData\\Roaming\\Python\\Python311\\site-packages\\keras\\src\\utils\\tf_utils.py:492: The name tf.ragged.RaggedTensorValue is deprecated. Please use tf.compat.v1.ragged.RaggedTensorValue instead.\n",
      "\n",
      "WARNING:tensorflow:From C:\\Users\\rohit\\AppData\\Roaming\\Python\\Python311\\site-packages\\keras\\src\\engine\\base_layer_utils.py:384: The name tf.executing_eagerly_outside_functions is deprecated. Please use tf.compat.v1.executing_eagerly_outside_functions instead.\n",
      "\n",
      "689/689 [==============================] - 102s 141ms/step - loss: 0.3767 - accuracy: 0.7997 - val_loss: 0.1617 - val_accuracy: 0.9556\n",
      "Epoch 2/10\n",
      "689/689 [==============================] - 78s 113ms/step - loss: 0.1399 - accuracy: 0.9555 - val_loss: 0.1319 - val_accuracy: 0.9615\n",
      "Epoch 3/10\n",
      "689/689 [==============================] - 76s 110ms/step - loss: 0.1130 - accuracy: 0.9611 - val_loss: 0.1302 - val_accuracy: 0.9572\n",
      "Epoch 4/10\n",
      "689/689 [==============================] - 74s 108ms/step - loss: 0.0959 - accuracy: 0.9676 - val_loss: 0.1339 - val_accuracy: 0.9632\n",
      "Epoch 5/10\n",
      "689/689 [==============================] - 76s 110ms/step - loss: 0.0725 - accuracy: 0.9748 - val_loss: 0.1532 - val_accuracy: 0.9612\n",
      "Epoch 6/10\n",
      "689/689 [==============================] - 75s 109ms/step - loss: 0.0547 - accuracy: 0.9813 - val_loss: 0.1887 - val_accuracy: 0.9592\n",
      "Epoch 7/10\n",
      "689/689 [==============================] - 75s 109ms/step - loss: 0.0345 - accuracy: 0.9892 - val_loss: 0.2982 - val_accuracy: 0.9541\n",
      "Epoch 8/10\n",
      "689/689 [==============================] - 74s 108ms/step - loss: 0.0284 - accuracy: 0.9911 - val_loss: 0.3068 - val_accuracy: 0.9505\n",
      "Epoch 9/10\n",
      "689/689 [==============================] - 77s 112ms/step - loss: 0.0228 - accuracy: 0.9928 - val_loss: 0.3602 - val_accuracy: 0.9554\n",
      "Epoch 10/10\n",
      "689/689 [==============================] - 75s 109ms/step - loss: 0.0127 - accuracy: 0.9956 - val_loss: 0.4167 - val_accuracy: 0.9512\n"
     ]
    }
   ],
   "source": [
    "history = model.fit(x_train , y_train , batch_size=batch,\n",
    "                   epochs=epoch , verbose=1 , validation_data=(x_test , y_test),\n",
    "                   validation_steps=ValidationStep , steps_per_epoch=stepPerEpoch,\n",
    "                   shuffle=True )"
   ]
  },
  {
   "cell_type": "code",
   "execution_count": 41,
   "id": "494be0f6",
   "metadata": {},
   "outputs": [
    {
     "name": "stdout",
     "output_type": "stream",
     "text": [
      "173/173 [==============================] - 4s 20ms/step - loss: 0.4167 - accuracy: 0.9512\n"
     ]
    }
   ],
   "source": [
    "loss, accuracy = model.evaluate(np.array(x_test), np.array(y_test))"
   ]
  },
  {
   "cell_type": "code",
   "execution_count": 43,
   "id": "c03b8580",
   "metadata": {},
   "outputs": [
    {
     "data": {
      "text/plain": [
       "0.9511973857879639"
      ]
     },
     "execution_count": 43,
     "metadata": {},
     "output_type": "execute_result"
    }
   ],
   "source": [
    "accuracy"
   ]
  },
  {
   "cell_type": "code",
   "execution_count": 38,
   "id": "6d186bc1",
   "metadata": {},
   "outputs": [
    {
     "name": "stdout",
     "output_type": "stream",
     "text": [
      "1/1 [==============================] - 1s 1s/step\n",
      "infected\n"
     ]
    }
   ],
   "source": [
    "def prepareImage(img):\n",
    "    resized = cv2.resize(img , input_shape , interpolation = cv2.INTER_AREA)\n",
    "    imgResult = np.expand_dims(resized , axis=0)\n",
    "    imgResultult = imgResult/255.0\n",
    "    \n",
    "    return imgResult\n",
    "\n",
    "def classify(inp_image):\n",
    "    img = cv2.imread(inp_image)\n",
    "    image_model = prepareImage(img)\n",
    "    result = model.predict(image_model , verbose=1)\n",
    "    if result[0][0]==1.0:\n",
    "        print('Uninfected')\n",
    "    else:\n",
    "        print('infected')\n",
    "        \n",
    "        \n",
    "classify(\"C:/Users/rohit/Data science/Major Project/Images/C38P3thinF_original_IMG_20150621_112043_cell_202.png\")"
   ]
  },
  {
   "cell_type": "code",
   "execution_count": 39,
   "id": "d7b11eeb",
   "metadata": {},
   "outputs": [
    {
     "name": "stderr",
     "output_type": "stream",
     "text": [
      "C:\\Users\\rohit\\AppData\\Roaming\\Python\\Python311\\site-packages\\keras\\src\\engine\\training.py:3103: UserWarning: You are saving your model as an HDF5 file via `model.save()`. This file format is considered legacy. We recommend using instead the native Keras format, e.g. `model.save('my_model.keras')`.\n",
      "  saving_api.save_model(\n"
     ]
    }
   ],
   "source": [
    "model.save('model.h5')"
   ]
  },
  {
   "cell_type": "code",
   "execution_count": null,
   "id": "a325c8a2",
   "metadata": {},
   "outputs": [],
   "source": []
  }
 ],
 "metadata": {
  "kernelspec": {
   "display_name": "Python 3 (ipykernel)",
   "language": "python",
   "name": "python3"
  },
  "language_info": {
   "codemirror_mode": {
    "name": "ipython",
    "version": 3
   },
   "file_extension": ".py",
   "mimetype": "text/x-python",
   "name": "python",
   "nbconvert_exporter": "python",
   "pygments_lexer": "ipython3",
   "version": "3.11.4"
  }
 },
 "nbformat": 4,
 "nbformat_minor": 5
}
